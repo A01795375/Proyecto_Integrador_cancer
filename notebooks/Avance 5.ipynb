{
 "cells": [
  {
   "cell_type": "markdown",
   "metadata": {},
   "source": [
    "# Instituto Tecnológico y de Estudios Superiores de Monterrey\n",
    "## Maestría en Inteligencia Artificial Aplicada\n",
    "### Proyecto Integrador (Gpo 10) - TC5035.10\n",
    "\n",
    "### **Proyecto: Diseño Acelerado de Fármacos**\n",
    "\n",
    "### Avance 5: Modelo final\n",
    "\n",
    "#### **Docentes:**\n",
    "- Dra. Grettel Barceló Alonso - Profesor Titular\n",
    "- Dr. Luis Eduardo Falcón Morales - Profesor Titular\n",
    "- Dr. Horacio Martinez Alfaro  – Profesor Tutor\n",
    "\n",
    "#### **Miembros del equipo:**\n",
    " - Jose Luis Artigas Arroyo - A01794906\n",
    " - José Luis Fabela Portillo - A00748551\n",
    " - Alejandro Emmanuel Silva Ortega - A01794545"
   ]
  },
  {
   "cell_type": "markdown",
   "metadata": {},
   "source": [
    "# Modelo final\n",
    "\n",
    "En esta entrega se busca "
   ]
  },
  {
   "cell_type": "code",
   "execution_count": 1,
   "metadata": {},
   "outputs": [],
   "source": [
    "import pandas as pd\n",
    "import numpy as np\n",
    "import matplotlib.pyplot as plt\n",
    "from matplotlib.colors import ListedColormap\n",
    "import seaborn as sns\n",
    "from sklearn.model_selection import train_test_split\n",
    "from sklearn.metrics import root_mean_squared_error\n",
    "from sklearn.metrics import classification_report, confusion_matrix, ConfusionMatrixDisplay\n",
    "from sklearn.model_selection import GridSearchCV, RandomizedSearchCV\n",
    "import re\n",
    "import joblib\n",
    "from preprocess import pfeature_process\n",
    "import csv\n",
    "import torch\n",
    "import yaml\n",
    "import sys"
   ]
  },
  {
   "cell_type": "code",
   "execution_count": 2,
   "metadata": {},
   "outputs": [],
   "source": [
    "model_path = '../models/dtr_model.pkl'\n",
    "X_vegf = '../data/processed/VEGF.txt'\n",
    "y_vegf = '../data/processed/VEGF_y.csv'"
   ]
  },
  {
   "cell_type": "code",
   "execution_count": 3,
   "metadata": {},
   "outputs": [],
   "source": [
    "vegf_true = pd.read_csv(y_vegf)"
   ]
  },
  {
   "cell_type": "code",
   "execution_count": 4,
   "metadata": {},
   "outputs": [],
   "source": [
    "model = joblib.load(model_path)"
   ]
  },
  {
   "cell_type": "code",
   "execution_count": 5,
   "metadata": {},
   "outputs": [
    {
     "data": {
      "text/html": [
       "<div>\n",
       "<style scoped>\n",
       "    .dataframe tbody tr th:only-of-type {\n",
       "        vertical-align: middle;\n",
       "    }\n",
       "\n",
       "    .dataframe tbody tr th {\n",
       "        vertical-align: top;\n",
       "    }\n",
       "\n",
       "    .dataframe thead th {\n",
       "        text-align: right;\n",
       "    }\n",
       "</style>\n",
       "<table border=\"1\" class=\"dataframe\">\n",
       "  <thead>\n",
       "    <tr style=\"text-align: right;\">\n",
       "      <th></th>\n",
       "      <th>PC1</th>\n",
       "      <th>PC2</th>\n",
       "      <th>PC3</th>\n",
       "      <th>PC4</th>\n",
       "      <th>PC5</th>\n",
       "      <th>PC6</th>\n",
       "      <th>PC7</th>\n",
       "      <th>PC8</th>\n",
       "      <th>PC9</th>\n",
       "      <th>PC10</th>\n",
       "      <th>PC11</th>\n",
       "      <th>PC12</th>\n",
       "      <th>PC13</th>\n",
       "      <th>PC14</th>\n",
       "      <th>PC15</th>\n",
       "      <th>PC16</th>\n",
       "      <th>PC17</th>\n",
       "      <th>PC18</th>\n",
       "    </tr>\n",
       "  </thead>\n",
       "  <tbody>\n",
       "    <tr>\n",
       "      <th>RGLRRLGRKIAHGVKKYGPTVLRIIRIA</th>\n",
       "      <td>3.685827</td>\n",
       "      <td>3.026574</td>\n",
       "      <td>2.174209</td>\n",
       "      <td>1.114199</td>\n",
       "      <td>-3.148683</td>\n",
       "      <td>1.174767</td>\n",
       "      <td>0.390196</td>\n",
       "      <td>1.512147</td>\n",
       "      <td>0.796227</td>\n",
       "      <td>-0.303206</td>\n",
       "      <td>-1.240757</td>\n",
       "      <td>-1.283147</td>\n",
       "      <td>-0.087252</td>\n",
       "      <td>-0.094193</td>\n",
       "      <td>0.287308</td>\n",
       "      <td>-2.999834</td>\n",
       "      <td>0.984064</td>\n",
       "      <td>-0.310411</td>\n",
       "    </tr>\n",
       "    <tr>\n",
       "      <th>KWKLFKKIGIGKFLHSAKKF</th>\n",
       "      <td>-2.961536</td>\n",
       "      <td>3.889708</td>\n",
       "      <td>1.755504</td>\n",
       "      <td>2.560073</td>\n",
       "      <td>-2.761317</td>\n",
       "      <td>-0.973730</td>\n",
       "      <td>-1.418199</td>\n",
       "      <td>-0.397591</td>\n",
       "      <td>-1.126385</td>\n",
       "      <td>-0.742023</td>\n",
       "      <td>1.497293</td>\n",
       "      <td>-1.226199</td>\n",
       "      <td>1.290707</td>\n",
       "      <td>1.428751</td>\n",
       "      <td>0.420648</td>\n",
       "      <td>-0.454442</td>\n",
       "      <td>-1.256059</td>\n",
       "      <td>-0.383208</td>\n",
       "    </tr>\n",
       "    <tr>\n",
       "      <th>KWKLFKKIGPGKFLHSAKKF</th>\n",
       "      <td>-2.981186</td>\n",
       "      <td>3.723922</td>\n",
       "      <td>-0.512336</td>\n",
       "      <td>2.369002</td>\n",
       "      <td>-2.732813</td>\n",
       "      <td>0.358897</td>\n",
       "      <td>-1.931299</td>\n",
       "      <td>0.053117</td>\n",
       "      <td>-2.258698</td>\n",
       "      <td>-1.408579</td>\n",
       "      <td>1.444053</td>\n",
       "      <td>-1.655509</td>\n",
       "      <td>0.576073</td>\n",
       "      <td>1.587953</td>\n",
       "      <td>0.640201</td>\n",
       "      <td>0.452737</td>\n",
       "      <td>-0.485281</td>\n",
       "      <td>-0.055894</td>\n",
       "    </tr>\n",
       "    <tr>\n",
       "      <th>KWKLFKKIPKFLHSAKKF</th>\n",
       "      <td>-5.309206</td>\n",
       "      <td>5.248047</td>\n",
       "      <td>0.490025</td>\n",
       "      <td>3.058876</td>\n",
       "      <td>-1.295841</td>\n",
       "      <td>1.110243</td>\n",
       "      <td>-2.395370</td>\n",
       "      <td>-0.526760</td>\n",
       "      <td>-0.824932</td>\n",
       "      <td>-0.283949</td>\n",
       "      <td>1.252813</td>\n",
       "      <td>-1.471735</td>\n",
       "      <td>0.469923</td>\n",
       "      <td>1.488074</td>\n",
       "      <td>0.618040</td>\n",
       "      <td>0.779301</td>\n",
       "      <td>-0.669829</td>\n",
       "      <td>0.258260</td>\n",
       "    </tr>\n",
       "    <tr>\n",
       "      <th>GLFDIAKKVIGVIGSL</th>\n",
       "      <td>-2.056033</td>\n",
       "      <td>-8.146810</td>\n",
       "      <td>3.343823</td>\n",
       "      <td>-1.914097</td>\n",
       "      <td>-0.226462</td>\n",
       "      <td>-2.302734</td>\n",
       "      <td>0.882738</td>\n",
       "      <td>0.219526</td>\n",
       "      <td>-1.994380</td>\n",
       "      <td>0.651051</td>\n",
       "      <td>-0.736073</td>\n",
       "      <td>0.172876</td>\n",
       "      <td>0.914814</td>\n",
       "      <td>1.545588</td>\n",
       "      <td>0.942909</td>\n",
       "      <td>-1.648604</td>\n",
       "      <td>-1.119495</td>\n",
       "      <td>0.176648</td>\n",
       "    </tr>\n",
       "    <tr>\n",
       "      <th>...</th>\n",
       "      <td>...</td>\n",
       "      <td>...</td>\n",
       "      <td>...</td>\n",
       "      <td>...</td>\n",
       "      <td>...</td>\n",
       "      <td>...</td>\n",
       "      <td>...</td>\n",
       "      <td>...</td>\n",
       "      <td>...</td>\n",
       "      <td>...</td>\n",
       "      <td>...</td>\n",
       "      <td>...</td>\n",
       "      <td>...</td>\n",
       "      <td>...</td>\n",
       "      <td>...</td>\n",
       "      <td>...</td>\n",
       "      <td>...</td>\n",
       "      <td>...</td>\n",
       "    </tr>\n",
       "    <tr>\n",
       "      <th>ACSHSGWGCGHGSWSCGRRRRRRRR</th>\n",
       "      <td>2.431572</td>\n",
       "      <td>1.353916</td>\n",
       "      <td>-9.583051</td>\n",
       "      <td>3.140612</td>\n",
       "      <td>-5.032865</td>\n",
       "      <td>-1.859997</td>\n",
       "      <td>5.469694</td>\n",
       "      <td>-3.173150</td>\n",
       "      <td>-1.832779</td>\n",
       "      <td>-0.717738</td>\n",
       "      <td>1.723960</td>\n",
       "      <td>1.366966</td>\n",
       "      <td>0.191277</td>\n",
       "      <td>-1.291578</td>\n",
       "      <td>-0.300778</td>\n",
       "      <td>-1.813377</td>\n",
       "      <td>-0.914407</td>\n",
       "      <td>-1.680822</td>\n",
       "    </tr>\n",
       "    <tr>\n",
       "      <th>ACHGRRWGCGRHRGRCG</th>\n",
       "      <td>-2.808445</td>\n",
       "      <td>-0.724574</td>\n",
       "      <td>-5.235644</td>\n",
       "      <td>1.688485</td>\n",
       "      <td>-4.167980</td>\n",
       "      <td>-3.131834</td>\n",
       "      <td>0.483101</td>\n",
       "      <td>0.902839</td>\n",
       "      <td>-0.177347</td>\n",
       "      <td>0.515799</td>\n",
       "      <td>2.838837</td>\n",
       "      <td>2.812539</td>\n",
       "      <td>-0.720620</td>\n",
       "      <td>-1.774664</td>\n",
       "      <td>-1.997905</td>\n",
       "      <td>-0.916444</td>\n",
       "      <td>-0.860861</td>\n",
       "      <td>0.027563</td>\n",
       "    </tr>\n",
       "    <tr>\n",
       "      <th>GLFGCGRKKRRQRRRPPQ</th>\n",
       "      <td>-4.776266</td>\n",
       "      <td>4.981262</td>\n",
       "      <td>-5.638631</td>\n",
       "      <td>-1.172772</td>\n",
       "      <td>-0.333940</td>\n",
       "      <td>1.880730</td>\n",
       "      <td>4.872651</td>\n",
       "      <td>0.190700</td>\n",
       "      <td>-1.979738</td>\n",
       "      <td>1.320010</td>\n",
       "      <td>0.529927</td>\n",
       "      <td>1.254141</td>\n",
       "      <td>0.847712</td>\n",
       "      <td>-1.091748</td>\n",
       "      <td>0.434319</td>\n",
       "      <td>0.643068</td>\n",
       "      <td>0.181547</td>\n",
       "      <td>0.803742</td>\n",
       "    </tr>\n",
       "    <tr>\n",
       "      <th>KRRRRRRRRRE</th>\n",
       "      <td>-13.361806</td>\n",
       "      <td>15.352664</td>\n",
       "      <td>-8.924242</td>\n",
       "      <td>-2.045379</td>\n",
       "      <td>2.396016</td>\n",
       "      <td>-0.497397</td>\n",
       "      <td>8.399128</td>\n",
       "      <td>-2.932850</td>\n",
       "      <td>-0.499435</td>\n",
       "      <td>1.944272</td>\n",
       "      <td>-1.254200</td>\n",
       "      <td>-1.576396</td>\n",
       "      <td>-1.778543</td>\n",
       "      <td>0.331674</td>\n",
       "      <td>-4.084826</td>\n",
       "      <td>-0.900434</td>\n",
       "      <td>-1.590439</td>\n",
       "      <td>-1.793383</td>\n",
       "    </tr>\n",
       "    <tr>\n",
       "      <th>GFLGGIGAVLKVLTTGLPALISWIKRKRQQ</th>\n",
       "      <td>6.980571</td>\n",
       "      <td>-4.151384</td>\n",
       "      <td>4.600889</td>\n",
       "      <td>-0.137545</td>\n",
       "      <td>-2.590457</td>\n",
       "      <td>0.867294</td>\n",
       "      <td>4.304936</td>\n",
       "      <td>-1.519271</td>\n",
       "      <td>-0.670810</td>\n",
       "      <td>-0.953678</td>\n",
       "      <td>-1.030284</td>\n",
       "      <td>-1.594291</td>\n",
       "      <td>2.352103</td>\n",
       "      <td>0.583233</td>\n",
       "      <td>0.858846</td>\n",
       "      <td>-0.654322</td>\n",
       "      <td>1.892045</td>\n",
       "      <td>-0.898073</td>\n",
       "    </tr>\n",
       "  </tbody>\n",
       "</table>\n",
       "<p>2704 rows × 18 columns</p>\n",
       "</div>"
      ],
      "text/plain": [
       "                                      PC1        PC2       PC3       PC4  \\\n",
       "RGLRRLGRKIAHGVKKYGPTVLRIIRIA     3.685827   3.026574  2.174209  1.114199   \n",
       "KWKLFKKIGIGKFLHSAKKF            -2.961536   3.889708  1.755504  2.560073   \n",
       "KWKLFKKIGPGKFLHSAKKF            -2.981186   3.723922 -0.512336  2.369002   \n",
       "KWKLFKKIPKFLHSAKKF              -5.309206   5.248047  0.490025  3.058876   \n",
       "GLFDIAKKVIGVIGSL                -2.056033  -8.146810  3.343823 -1.914097   \n",
       "...                                   ...        ...       ...       ...   \n",
       "ACSHSGWGCGHGSWSCGRRRRRRRR        2.431572   1.353916 -9.583051  3.140612   \n",
       "ACHGRRWGCGRHRGRCG               -2.808445  -0.724574 -5.235644  1.688485   \n",
       "GLFGCGRKKRRQRRRPPQ              -4.776266   4.981262 -5.638631 -1.172772   \n",
       "KRRRRRRRRRE                    -13.361806  15.352664 -8.924242 -2.045379   \n",
       "GFLGGIGAVLKVLTTGLPALISWIKRKRQQ   6.980571  -4.151384  4.600889 -0.137545   \n",
       "\n",
       "                                     PC5       PC6       PC7       PC8  \\\n",
       "RGLRRLGRKIAHGVKKYGPTVLRIIRIA   -3.148683  1.174767  0.390196  1.512147   \n",
       "KWKLFKKIGIGKFLHSAKKF           -2.761317 -0.973730 -1.418199 -0.397591   \n",
       "KWKLFKKIGPGKFLHSAKKF           -2.732813  0.358897 -1.931299  0.053117   \n",
       "KWKLFKKIPKFLHSAKKF             -1.295841  1.110243 -2.395370 -0.526760   \n",
       "GLFDIAKKVIGVIGSL               -0.226462 -2.302734  0.882738  0.219526   \n",
       "...                                  ...       ...       ...       ...   \n",
       "ACSHSGWGCGHGSWSCGRRRRRRRR      -5.032865 -1.859997  5.469694 -3.173150   \n",
       "ACHGRRWGCGRHRGRCG              -4.167980 -3.131834  0.483101  0.902839   \n",
       "GLFGCGRKKRRQRRRPPQ             -0.333940  1.880730  4.872651  0.190700   \n",
       "KRRRRRRRRRE                     2.396016 -0.497397  8.399128 -2.932850   \n",
       "GFLGGIGAVLKVLTTGLPALISWIKRKRQQ -2.590457  0.867294  4.304936 -1.519271   \n",
       "\n",
       "                                     PC9      PC10      PC11      PC12  \\\n",
       "RGLRRLGRKIAHGVKKYGPTVLRIIRIA    0.796227 -0.303206 -1.240757 -1.283147   \n",
       "KWKLFKKIGIGKFLHSAKKF           -1.126385 -0.742023  1.497293 -1.226199   \n",
       "KWKLFKKIGPGKFLHSAKKF           -2.258698 -1.408579  1.444053 -1.655509   \n",
       "KWKLFKKIPKFLHSAKKF             -0.824932 -0.283949  1.252813 -1.471735   \n",
       "GLFDIAKKVIGVIGSL               -1.994380  0.651051 -0.736073  0.172876   \n",
       "...                                  ...       ...       ...       ...   \n",
       "ACSHSGWGCGHGSWSCGRRRRRRRR      -1.832779 -0.717738  1.723960  1.366966   \n",
       "ACHGRRWGCGRHRGRCG              -0.177347  0.515799  2.838837  2.812539   \n",
       "GLFGCGRKKRRQRRRPPQ             -1.979738  1.320010  0.529927  1.254141   \n",
       "KRRRRRRRRRE                    -0.499435  1.944272 -1.254200 -1.576396   \n",
       "GFLGGIGAVLKVLTTGLPALISWIKRKRQQ -0.670810 -0.953678 -1.030284 -1.594291   \n",
       "\n",
       "                                    PC13      PC14      PC15      PC16  \\\n",
       "RGLRRLGRKIAHGVKKYGPTVLRIIRIA   -0.087252 -0.094193  0.287308 -2.999834   \n",
       "KWKLFKKIGIGKFLHSAKKF            1.290707  1.428751  0.420648 -0.454442   \n",
       "KWKLFKKIGPGKFLHSAKKF            0.576073  1.587953  0.640201  0.452737   \n",
       "KWKLFKKIPKFLHSAKKF              0.469923  1.488074  0.618040  0.779301   \n",
       "GLFDIAKKVIGVIGSL                0.914814  1.545588  0.942909 -1.648604   \n",
       "...                                  ...       ...       ...       ...   \n",
       "ACSHSGWGCGHGSWSCGRRRRRRRR       0.191277 -1.291578 -0.300778 -1.813377   \n",
       "ACHGRRWGCGRHRGRCG              -0.720620 -1.774664 -1.997905 -0.916444   \n",
       "GLFGCGRKKRRQRRRPPQ              0.847712 -1.091748  0.434319  0.643068   \n",
       "KRRRRRRRRRE                    -1.778543  0.331674 -4.084826 -0.900434   \n",
       "GFLGGIGAVLKVLTTGLPALISWIKRKRQQ  2.352103  0.583233  0.858846 -0.654322   \n",
       "\n",
       "                                    PC17      PC18  \n",
       "RGLRRLGRKIAHGVKKYGPTVLRIIRIA    0.984064 -0.310411  \n",
       "KWKLFKKIGIGKFLHSAKKF           -1.256059 -0.383208  \n",
       "KWKLFKKIGPGKFLHSAKKF           -0.485281 -0.055894  \n",
       "KWKLFKKIPKFLHSAKKF             -0.669829  0.258260  \n",
       "GLFDIAKKVIGVIGSL               -1.119495  0.176648  \n",
       "...                                  ...       ...  \n",
       "ACSHSGWGCGHGSWSCGRRRRRRRR      -0.914407 -1.680822  \n",
       "ACHGRRWGCGRHRGRCG              -0.860861  0.027563  \n",
       "GLFGCGRKKRRQRRRPPQ              0.181547  0.803742  \n",
       "KRRRRRRRRRE                    -1.590439 -1.793383  \n",
       "GFLGGIGAVLKVLTTGLPALISWIKRKRQQ  1.892045 -0.898073  \n",
       "\n",
       "[2704 rows x 18 columns]"
      ]
     },
     "execution_count": 5,
     "metadata": {},
     "output_type": "execute_result"
    }
   ],
   "source": [
    "vegf_seqs = pfeature_process(X_vegf)\n",
    "vegf_seqs"
   ]
  },
  {
   "cell_type": "code",
   "execution_count": 6,
   "metadata": {},
   "outputs": [
    {
     "data": {
      "text/plain": [
       "array([0, 1, 0, ..., 0, 0, 0])"
      ]
     },
     "execution_count": 6,
     "metadata": {},
     "output_type": "execute_result"
    }
   ],
   "source": [
    "vegf_predict = model.predict(vegf_seqs)\n",
    "vegf_predict"
   ]
  },
  {
   "cell_type": "code",
   "execution_count": 13,
   "metadata": {},
   "outputs": [],
   "source": [
    "\n",
    "print(vegf_predict)"
   ]
  },
  {
   "cell_type": "code",
   "execution_count": 15,
   "metadata": {},
   "outputs": [
    {
     "data": {
      "text/plain": [
       "{'positive': {'precision': 0.9925173703901656,\n",
       "  'recall': 0.6913626209977662,\n",
       "  'f1-score': 0.815009874917709,\n",
       "  'support': 2686.0},\n",
       " 'negative': {'precision': 0.004801920768307323,\n",
       "  'recall': 0.2222222222222222,\n",
       "  'f1-score': 0.009400705052878966,\n",
       "  'support': 18.0},\n",
       " 'accuracy': 0.6882396449704142,\n",
       " 'macro avg': {'precision': 0.4986596455792365,\n",
       "  'recall': 0.4567924216099942,\n",
       "  'f1-score': 0.412205289985294,\n",
       "  'support': 2704.0},\n",
       " 'weighted avg': {'precision': 0.9859423415095467,\n",
       "  'recall': 0.6882396449704142,\n",
       "  'f1-score': 0.8096470919822184,\n",
       "  'support': 2704.0}}"
      ]
     },
     "execution_count": 15,
     "metadata": {},
     "output_type": "execute_result"
    }
   ],
   "source": [
    "vegf_report = classification_report(vegf_true,vegf_predict, target_names=['positive','negative'], output_dict=True)\n",
    "vegf_report"
   ]
  },
  {
   "cell_type": "code",
   "execution_count": 9,
   "metadata": {},
   "outputs": [
    {
     "data": {
      "image/png": "[encoded data removed]",
      "text/plain": [
       "<Figure size 640x480 with 1 Axes>"
      ]
     },
     "metadata": {},
     "output_type": "display_data"
    }
   ],
   "source": [
    "cm_vegf = confusion_matrix(vegf_true, vegf_predict)\n",
    "disp = ConfusionMatrixDisplay(confusion_matrix=cm_vegf)\n",
    "\n",
    "disp.plot(colorbar= False)\n",
    "disp.ax_.set_title('VEGF CM')\n",
    "plt.show()"
   ]
  },
  {
   "cell_type": "markdown",
   "metadata": {},
   "source": [
    "# ROC"
   ]
  },
  {
   "cell_type": "code",
   "execution_count": 16,
   "metadata": {},
   "outputs": [],
   "source": [
    "from sklearn.metrics import roc_curve, auc"
   ]
  },
  {
   "cell_type": "code",
   "execution_count": 17,
   "metadata": {},
   "outputs": [],
   "source": [
    "vegf_pred_proba = model.predict_proba(vegf_seqs)[:, 1]"
   ]
  },
  {
   "cell_type": "code",
   "execution_count": 18,
   "metadata": {},
   "outputs": [
    {
     "data": {
      "image/png": "[encoded data removed]",
      "text/plain": [
       "<Figure size 640x480 with 1 Axes>"
      ]
     },
     "metadata": {},
     "output_type": "display_data"
    }
   ],
   "source": [
    "fpr, tpr, thresholds = roc_curve(vegf_true, vegf_pred_proba) \n",
    "roc_auc = auc(fpr, tpr)\n",
    "# Plot the ROC curve\n",
    "plt.figure()  \n",
    "plt.plot(fpr, tpr, label='ROC curve (area = %0.2f)' % roc_auc)\n",
    "plt.plot([0, 1], [0, 1], 'k--', label='No Skill')\n",
    "plt.xlim([0.0, 1.0])\n",
    "plt.ylim([0.0, 1.05])\n",
    "plt.xlabel('False Positive Rate')\n",
    "plt.ylabel('True Positive Rate')\n",
    "plt.title('ROC Curve for VEGF Classification')\n",
    "plt.legend()\n",
    "plt.show()"
   ]
  },
  {
   "cell_type": "code",
   "execution_count": 19,
   "metadata": {},
   "outputs": [],
   "source": [
    "from sklearn.metrics import precision_recall_curve"
   ]
  },
  {
   "cell_type": "code",
   "execution_count": 20,
   "metadata": {},
   "outputs": [
    {
     "data": {
      "text/plain": [
       "Text(0.5, 1.0, 'VEGF Precision-Recall curve')"
      ]
     },
     "execution_count": 20,
     "metadata": {},
     "output_type": "execute_result"
    },
    {
     "data": {
      "image/png": "[encoded data removed]",
      "text/plain": [
       "<Figure size 640x480 with 1 Axes>"
      ]
     },
     "metadata": {},
     "output_type": "display_data"
    }
   ],
   "source": [
    "precision, recall, thresholds = precision_recall_curve(vegf_true, vegf_pred_proba)\n",
    "plt.fill_between(recall, precision)\n",
    "plt.ylabel(\"Precision\")\n",
    "plt.xlabel(\"Recall\")\n",
    "plt.title(\"VEGF Precision-Recall curve\")"
   ]
  },
  {
   "cell_type": "code",
   "execution_count": 23,
   "metadata": {},
   "outputs": [],
   "source": [
    "from six import StringIO  \n",
    "from IPython.display import Image  \n",
    "from sklearn.tree import export_graphviz\n",
    "import pydotplus"
   ]
  },
  {
   "cell_type": "code",
   "execution_count": 29,
   "metadata": {},
   "outputs": [
    {
     "ename": "InvocationException",
     "evalue": "GraphViz's executables not found",
     "output_type": "error",
     "traceback": [
      "\u001b[1;31m---------------------------------------------------------------------------\u001b[0m",
      "\u001b[1;31mInvocationException\u001b[0m                       Traceback (most recent call last)",
      "Cell \u001b[1;32mIn[29], line 5\u001b[0m\n\u001b[0;32m      3\u001b[0m dot_data \u001b[38;5;241m=\u001b[39m export_graphviz(model)\n\u001b[0;32m      4\u001b[0m graph \u001b[38;5;241m=\u001b[39m graph_from_dot_data(dot_data)\n\u001b[1;32m----> 5\u001b[0m \u001b[43mgraph\u001b[49m\u001b[38;5;241;43m.\u001b[39;49m\u001b[43mwrite_png\u001b[49m\u001b[43m(\u001b[49m\u001b[38;5;124;43m'\u001b[39;49m\u001b[38;5;124;43mtree.png\u001b[39;49m\u001b[38;5;124;43m'\u001b[39;49m\u001b[43m)\u001b[49m\n",
      "File \u001b[1;32mc:\\tmp_cases\\DEV\\git\\advance_drug_discovery\\Advanced_drug_discovery\\.venv\\lib\\site-packages\\pydotplus\\graphviz.py:1810\u001b[0m, in \u001b[0;36mDot.__init__.<locals>.<lambda>\u001b[1;34m(path, f, prog)\u001b[0m\n\u001b[0;32m   1800\u001b[0m     f\u001b[38;5;241m.\u001b[39m\u001b[38;5;18m__doc__\u001b[39m \u001b[38;5;241m=\u001b[39m (\n\u001b[0;32m   1801\u001b[0m \u001b[38;5;250m        \u001b[39m\u001b[38;5;124;03m'''Refer to the docstring accompanying the'''\u001b[39;00m\n\u001b[0;32m   1802\u001b[0m \u001b[38;5;250m        \u001b[39m\u001b[38;5;124;03m''''create' method for more information.'''\u001b[39;00m\n\u001b[0;32m   1803\u001b[0m     )\n\u001b[0;32m   1805\u001b[0m \u001b[38;5;28;01mfor\u001b[39;00m frmt \u001b[38;5;129;01min\u001b[39;00m \u001b[38;5;28mself\u001b[39m\u001b[38;5;241m.\u001b[39mformats \u001b[38;5;241m+\u001b[39m [\u001b[38;5;124m'\u001b[39m\u001b[38;5;124mraw\u001b[39m\u001b[38;5;124m'\u001b[39m]:\n\u001b[0;32m   1806\u001b[0m     \u001b[38;5;28mself\u001b[39m\u001b[38;5;241m.\u001b[39m\u001b[38;5;21m__setattr__\u001b[39m(\n\u001b[0;32m   1807\u001b[0m         \u001b[38;5;124m'\u001b[39m\u001b[38;5;124mwrite_\u001b[39m\u001b[38;5;124m'\u001b[39m \u001b[38;5;241m+\u001b[39m frmt,\n\u001b[0;32m   1808\u001b[0m         \u001b[38;5;28;01mlambda\u001b[39;00m path,\n\u001b[0;32m   1809\u001b[0m         f\u001b[38;5;241m=\u001b[39mfrmt,\n\u001b[1;32m-> 1810\u001b[0m         prog\u001b[38;5;241m=\u001b[39m\u001b[38;5;28mself\u001b[39m\u001b[38;5;241m.\u001b[39mprog: \u001b[38;5;28;43mself\u001b[39;49m\u001b[38;5;241;43m.\u001b[39;49m\u001b[43mwrite\u001b[49m\u001b[43m(\u001b[49m\u001b[43mpath\u001b[49m\u001b[43m,\u001b[49m\u001b[43m \u001b[49m\u001b[38;5;28;43mformat\u001b[39;49m\u001b[38;5;241;43m=\u001b[39;49m\u001b[43mf\u001b[49m\u001b[43m,\u001b[49m\u001b[43m \u001b[49m\u001b[43mprog\u001b[49m\u001b[38;5;241;43m=\u001b[39;49m\u001b[43mprog\u001b[49m\u001b[43m)\u001b[49m\n\u001b[0;32m   1811\u001b[0m     )\n\u001b[0;32m   1813\u001b[0m     f \u001b[38;5;241m=\u001b[39m \u001b[38;5;28mself\u001b[39m\u001b[38;5;241m.\u001b[39m\u001b[38;5;18m__dict__\u001b[39m[\u001b[38;5;124m'\u001b[39m\u001b[38;5;124mwrite_\u001b[39m\u001b[38;5;124m'\u001b[39m \u001b[38;5;241m+\u001b[39m frmt]\n\u001b[0;32m   1814\u001b[0m     f\u001b[38;5;241m.\u001b[39m\u001b[38;5;18m__doc__\u001b[39m \u001b[38;5;241m=\u001b[39m (\n\u001b[0;32m   1815\u001b[0m \u001b[38;5;250m        \u001b[39m\u001b[38;5;124;03m'''Refer to the docstring accompanying the'''\u001b[39;00m\n\u001b[0;32m   1816\u001b[0m \u001b[38;5;250m        \u001b[39m\u001b[38;5;124;03m''''write' method for more information.'''\u001b[39;00m\n\u001b[0;32m   1817\u001b[0m     )\n",
      "File \u001b[1;32mc:\\tmp_cases\\DEV\\git\\advance_drug_discovery\\Advanced_drug_discovery\\.venv\\lib\\site-packages\\pydotplus\\graphviz.py:1918\u001b[0m, in \u001b[0;36mDot.write\u001b[1;34m(self, path, prog, format)\u001b[0m\n\u001b[0;32m   1915\u001b[0m         fobj\u001b[38;5;241m.\u001b[39mwrite(data)\n\u001b[0;32m   1917\u001b[0m     \u001b[38;5;28;01melse\u001b[39;00m:\n\u001b[1;32m-> 1918\u001b[0m         fobj\u001b[38;5;241m.\u001b[39mwrite(\u001b[38;5;28;43mself\u001b[39;49m\u001b[38;5;241;43m.\u001b[39;49m\u001b[43mcreate\u001b[49m\u001b[43m(\u001b[49m\u001b[43mprog\u001b[49m\u001b[43m,\u001b[49m\u001b[43m \u001b[49m\u001b[38;5;28;43mformat\u001b[39;49m\u001b[43m)\u001b[49m)\n\u001b[0;32m   1919\u001b[0m \u001b[38;5;28;01mfinally\u001b[39;00m:\n\u001b[0;32m   1920\u001b[0m     \u001b[38;5;28;01mif\u001b[39;00m close:\n",
      "File \u001b[1;32mc:\\tmp_cases\\DEV\\git\\advance_drug_discovery\\Advanced_drug_discovery\\.venv\\lib\\site-packages\\pydotplus\\graphviz.py:1959\u001b[0m, in \u001b[0;36mDot.create\u001b[1;34m(self, prog, format)\u001b[0m\n\u001b[0;32m   1957\u001b[0m     \u001b[38;5;28mself\u001b[39m\u001b[38;5;241m.\u001b[39mprogs \u001b[38;5;241m=\u001b[39m find_graphviz()\n\u001b[0;32m   1958\u001b[0m     \u001b[38;5;28;01mif\u001b[39;00m \u001b[38;5;28mself\u001b[39m\u001b[38;5;241m.\u001b[39mprogs \u001b[38;5;129;01mis\u001b[39;00m \u001b[38;5;28;01mNone\u001b[39;00m:\n\u001b[1;32m-> 1959\u001b[0m         \u001b[38;5;28;01mraise\u001b[39;00m InvocationException(\n\u001b[0;32m   1960\u001b[0m             \u001b[38;5;124m'\u001b[39m\u001b[38;5;124mGraphViz\u001b[39m\u001b[38;5;130;01m\\'\u001b[39;00m\u001b[38;5;124ms executables not found\u001b[39m\u001b[38;5;124m'\u001b[39m)\n\u001b[0;32m   1962\u001b[0m \u001b[38;5;28;01mif\u001b[39;00m prog \u001b[38;5;129;01mnot\u001b[39;00m \u001b[38;5;129;01min\u001b[39;00m \u001b[38;5;28mself\u001b[39m\u001b[38;5;241m.\u001b[39mprogs:\n\u001b[0;32m   1963\u001b[0m     \u001b[38;5;28;01mraise\u001b[39;00m InvocationException(\n\u001b[0;32m   1964\u001b[0m         \u001b[38;5;124m'\u001b[39m\u001b[38;5;124mGraphViz\u001b[39m\u001b[38;5;130;01m\\'\u001b[39;00m\u001b[38;5;124ms executable \u001b[39m\u001b[38;5;124m\"\u001b[39m\u001b[38;5;132;01m%s\u001b[39;00m\u001b[38;5;124m\"\u001b[39m\u001b[38;5;124m not found\u001b[39m\u001b[38;5;124m'\u001b[39m \u001b[38;5;241m%\u001b[39m prog)\n",
      "\u001b[1;31mInvocationException\u001b[0m: GraphViz's executables not found"
     ]
    }
   ],
   "source": [
    "from sklearn.tree import export_graphviz\n",
    "from pydotplus import graph_from_dot_data\n",
    "dot_data = export_graphviz(model)\n",
    "graph = graph_from_dot_data(dot_data)\n",
    "graph.write_png('tree.png')"
   ]
  },
  {
   "cell_type": "code",
   "execution_count": null,
   "metadata": {},
   "outputs": [],
   "source": []
  }
 ],
 "metadata": {
  "kernelspec": {
   "display_name": ".venv",
   "language": "python",
   "name": "python3"
  },
  "language_info": {
   "codemirror_mode": {
    "name": "ipython",
    "version": 3
   },
   "file_extension": ".py",
   "mimetype": "text/x-python",
   "name": "python",
   "nbconvert_exporter": "python",
   "pygments_lexer": "ipython3",
   "version": "3.10.11"
  }
 },
 "nbformat": 4,
 "nbformat_minor": 2
}
