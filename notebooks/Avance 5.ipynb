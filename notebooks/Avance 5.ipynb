{
 "cells": [
  {
   "cell_type": "markdown",
   "metadata": {},
   "source": [
    "# Instituto Tecnológico y de Estudios Superiores de Monterrey\n",
    "## Maestría en Inteligencia Artificial Aplicada\n",
    "### Proyecto Integrador (Gpo 10) - TC5035.10\n",
    "\n",
    "### **Proyecto: Diseño Acelerado de Fármacos**\n",
    "\n",
    "### Avance 5: Modelo final\n",
    "\n",
    "#### **Docentes:**\n",
    "- Dra. Grettel Barceló Alonso - Profesor Titular\n",
    "- Dr. Luis Eduardo Falcón Morales - Profesor Titular\n",
    "- Dr. Horacio Martinez Alfaro  – Profesor Tutor\n",
    "\n",
    "#### **Miembros del equipo:**\n",
    " - Jose Luis Artigas Arroyo - A01794906\n",
    " - José Luis Fabela Portillo - A00748551\n",
    " - Alejandro Emmanuel Silva Ortega - A01794545"
   ]
  },
  {
   "cell_type": "code",
   "execution_count": 1,
   "metadata": {},
   "outputs": [],
   "source": [
    "import pandas as pd\n",
    "import numpy as np\n",
    "import matplotlib.pyplot as plt\n",
    "from matplotlib.colors import ListedColormap\n",
    "import seaborn as sns\n",
    "from sklearn.model_selection import train_test_split\n",
    "from sklearn.metrics import root_mean_squared_error\n",
    "from sklearn.metrics import classification_report, confusion_matrix, ConfusionMatrixDisplay\n",
    "from sklearn.model_selection import GridSearchCV, RandomizedSearchCV\n",
    "import re\n",
    "import joblib\n",
    "from preprocess import pfeature_process\n",
    "import csv\n",
    "import torch\n",
    "import yaml\n",
    "import sys\n",
    "sys.path.insert(1, '../')\n",
    "from models.network import create_model"
   ]
  },
  {
   "cell_type": "code",
   "execution_count": 2,
   "metadata": {},
   "outputs": [],
   "source": [
    "#ubicacion de los archivos de datos con el modelo y el archivo FASTA procesado con CD-HIT\n",
    "model_path = '../models/rf_model.pkl'\n",
    "cd_hit_path = '../data/processed/VEGF.txt'"
   ]
  },
  {
   "cell_type": "code",
   "execution_count": 3,
   "metadata": {},
   "outputs": [],
   "source": [
    "model = joblib.load(model_path)"
   ]
  },
  {
   "cell_type": "code",
   "execution_count": 4,
   "metadata": {},
   "outputs": [],
   "source": [
    "vegf_seqs = pfeature_process(cd_hit_path)"
   ]
  },
  {
   "cell_type": "code",
   "execution_count": 5,
   "metadata": {},
   "outputs": [
    {
     "data": {
      "text/plain": [
       "array([0, 1, 1, ..., 1, 1, 0])"
      ]
     },
     "execution_count": 5,
     "metadata": {},
     "output_type": "execute_result"
    }
   ],
   "source": [
    "vegf_predict = model.predict(vegf_seqs)\n",
    "vegf_predict"
   ]
  },
  {
   "cell_type": "code",
   "execution_count": 6,
   "metadata": {},
   "outputs": [],
   "source": [
    "vegf_y = pd.read_csv('../data/processed/VEGF_y.csv')"
   ]
  },
  {
   "cell_type": "code",
   "execution_count": 8,
   "metadata": {},
   "outputs": [
    {
     "data": {
      "text/plain": [
       "{'positive': {'precision': 0.9993333333333333,\n",
       "  'recall': 0.5580789277736411,\n",
       "  'f1-score': 0.7161968466316292,\n",
       "  'support': 2686.0},\n",
       " 'negative': {'precision': 0.014119601328903655,\n",
       "  'recall': 0.9444444444444444,\n",
       "  'f1-score': 0.027823240589198037,\n",
       "  'support': 18.0},\n",
       " 'accuracy': 0.5606508875739645,\n",
       " 'macro avg': {'precision': 0.5067264673311185,\n",
       "  'recall': 0.7512616861090428,\n",
       "  'f1-score': 0.3720100436104136,\n",
       "  'support': 2704.0},\n",
       " 'weighted avg': {'precision': 0.9927749578983925,\n",
       "  'recall': 0.5606508875739645,\n",
       "  'f1-score': 0.7116144779523527,\n",
       "  'support': 2704.0}}"
      ]
     },
     "execution_count": 8,
     "metadata": {},
     "output_type": "execute_result"
    }
   ],
   "source": [
    "vegf_report = classification_report(vegf_y, vegf_predict, target_names=['positive','negative'], output_dict=True)\n",
    "vegf_report"
   ]
  },
  {
   "cell_type": "code",
   "execution_count": 10,
   "metadata": {},
   "outputs": [
    {
     "data": {
      "image/png": "[encoded data removed]",
      "text/plain": [
       "<Figure size 640x480 with 1 Axes>"
      ]
     },
     "metadata": {},
     "output_type": "display_data"
    }
   ],
   "source": [
    "cm_vegf = confusion_matrix(vegf_y, vegf_predict)\n",
    "disp = ConfusionMatrixDisplay(confusion_matrix=cm_vegf)\n",
    "disp.plot(colorbar=False)\n",
    "disp.ax_.set_title('VEGF CM')\n",
    "plt.show()"
   ]
  },
  {
   "cell_type": "code",
   "execution_count": null,
   "metadata": {},
   "outputs": [],
   "source": []
  }
 ],
 "metadata": {
  "kernelspec": {
   "display_name": ".venv",
   "language": "python",
   "name": "python3"
  },
  "language_info": {
   "codemirror_mode": {
    "name": "ipython",
    "version": 3
   },
   "file_extension": ".py",
   "mimetype": "text/x-python",
   "name": "python",
   "nbconvert_exporter": "python",
   "pygments_lexer": "ipython3",
   "version": "3.10.11"
  }
 },
 "nbformat": 4,
 "nbformat_minor": 2
}
